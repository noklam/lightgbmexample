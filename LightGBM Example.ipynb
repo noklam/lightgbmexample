{
 "cells": [
  {
   "cell_type": "code",
   "execution_count": 23,
   "metadata": {
    "ExecuteTime": {
     "end_time": "2018-09-17T13:49:47.729583Z",
     "start_time": "2018-09-17T13:49:47.721567Z"
    }
   },
   "outputs": [],
   "source": [
    "import lightgbm as lgb\n",
    "import sklearn \n",
    "from sklearn import datasets\n",
    "from matplotlib import pyplot as plt\n",
    "from sklearn.cross_validation import train_test_split\n",
    "%matplotlib inline"
   ]
  },
  {
   "cell_type": "code",
   "execution_count": 4,
   "metadata": {
    "ExecuteTime": {
     "end_time": "2018-09-17T13:45:11.785944Z",
     "start_time": "2018-09-17T13:45:11.773976Z"
    }
   },
   "outputs": [
    {
     "data": {
      "text/plain": [
       "('2.1.2', '0.19.1')"
      ]
     },
     "execution_count": 4,
     "metadata": {},
     "output_type": "execute_result"
    }
   ],
   "source": [
    "lgb.__version__, sklearn.__version__"
   ]
  },
  {
   "cell_type": "markdown",
   "metadata": {},
   "source": [
    "# Import digit dataset from sklearn"
   ]
  },
  {
   "cell_type": "code",
   "execution_count": 8,
   "metadata": {
    "ExecuteTime": {
     "end_time": "2018-09-17T13:47:03.828894Z",
     "start_time": "2018-09-17T13:47:03.738833Z"
    }
   },
   "outputs": [],
   "source": [
    "digits = datasets.load_digits()"
   ]
  },
  {
   "cell_type": "code",
   "execution_count": 9,
   "metadata": {
    "ExecuteTime": {
     "end_time": "2018-09-17T13:47:04.660722Z",
     "start_time": "2018-09-17T13:47:04.654739Z"
    }
   },
   "outputs": [
    {
     "name": "stdout",
     "output_type": "stream",
     "text": [
      "[[ 0.  0.  5. ...  0.  0.  0.]\n",
      " [ 0.  0.  0. ... 10.  0.  0.]\n",
      " [ 0.  0.  0. ... 16.  9.  0.]\n",
      " ...\n",
      " [ 0.  0.  1. ...  6.  0.  0.]\n",
      " [ 0.  0.  2. ... 12.  0.  0.]\n",
      " [ 0.  0. 10. ... 12.  1.  0.]]\n"
     ]
    }
   ],
   "source": [
    "print(digits.data)  "
   ]
  },
  {
   "cell_type": "code",
   "execution_count": 28,
   "metadata": {
    "ExecuteTime": {
     "end_time": "2018-09-17T13:51:12.865844Z",
     "start_time": "2018-09-17T13:51:12.861854Z"
    }
   },
   "outputs": [],
   "source": [
    "data = digits.data\n",
    "target = digits.target"
   ]
  },
  {
   "cell_type": "code",
   "execution_count": 18,
   "metadata": {
    "ExecuteTime": {
     "end_time": "2018-09-17T13:48:47.162646Z",
     "start_time": "2018-09-17T13:48:47.158656Z"
    }
   },
   "outputs": [],
   "source": [
    "sample = data[0]"
   ]
  },
  {
   "cell_type": "code",
   "execution_count": 21,
   "metadata": {
    "ExecuteTime": {
     "end_time": "2018-09-17T13:49:11.100510Z",
     "start_time": "2018-09-17T13:49:10.979804Z"
    }
   },
   "outputs": [
    {
     "data": {
      "text/plain": [
       "<matplotlib.image.AxesImage at 0x2645f923c50>"
      ]
     },
     "execution_count": 21,
     "metadata": {},
     "output_type": "execute_result"
    },
    {
     "data": {
      "image/png": "[encoded data removed]",
      "text/plain": [
       "<Figure size 432x288 with 1 Axes>"
      ]
     },
     "metadata": {},
     "output_type": "display_data"
    }
   ],
   "source": [
    "plt.imshow(sample.reshape(8,8),cmap='gray')"
   ]
  },
  {
   "cell_type": "markdown",
   "metadata": {
    "ExecuteTime": {
     "end_time": "2018-09-17T13:49:30.621055Z",
     "start_time": "2018-09-17T13:49:30.617065Z"
    }
   },
   "source": [
    "# Spliting training/validation dataset"
   ]
  },
  {
   "cell_type": "code",
   "execution_count": 38,
   "metadata": {
    "ExecuteTime": {
     "end_time": "2018-09-17T14:03:04.051812Z",
     "start_time": "2018-09-17T14:03:04.045827Z"
    }
   },
   "outputs": [],
   "source": [
    "x_train, x_valid , y_train, y_valid = train_test_split(data, target, random_state=42)"
   ]
  },
  {
   "cell_type": "code",
   "execution_count": 32,
   "metadata": {
    "ExecuteTime": {
     "end_time": "2018-09-17T13:56:10.499908Z",
     "start_time": "2018-09-17T13:56:10.493888Z"
    }
   },
   "outputs": [],
   "source": [
    "# Create dataset\n",
    "train = lgb.Dataset(x_train, y_train)\n",
    "valid = lgb.Dataset(x_valid, y_valid, reference=train)"
   ]
  },
  {
   "cell_type": "markdown",
   "metadata": {
    "ExecuteTime": {
     "end_time": "2018-09-17T14:04:08.921592Z",
     "start_time": "2018-09-17T14:04:08.913613Z"
    }
   },
   "source": [
    "I have struggle to find an easy way to monitor losses per iteration as the documentation is not very intuitive. The idea is to create a dataset, and __passing both training and validation set__ to evaluation. __However LightGBM will use both dataset for validation which is not our purpose, we want validation on validation set only.__ You will need to pass an extra parameter to `reference = train` to let LightGBM know that it should not validation on it.\n",
    "\n",
    "You also need to create a dictionary and pass it to `evals_result`, which will save the training and validation losses during training"
   ]
  },
  {
   "cell_type": "code",
   "execution_count": 79,
   "metadata": {
    "ExecuteTime": {
     "end_time": "2018-09-17T14:14:23.406832Z",
     "start_time": "2018-09-17T14:14:22.186108Z"
    },
    "scrolled": true
   },
   "outputs": [
    {
     "name": "stdout",
     "output_type": "stream",
     "text": [
      "[1]\ttraining's multi_logloss: 1.92506\tvalid_1's multi_logloss: 1.95689\n",
      "Training until validation scores don't improve for 20 rounds.\n",
      "[2]\ttraining's multi_logloss: 1.67237\tvalid_1's multi_logloss: 1.72181\n",
      "[3]\ttraining's multi_logloss: 1.47891\tvalid_1's multi_logloss: 1.54083\n",
      "[4]\ttraining's multi_logloss: 1.32428\tvalid_1's multi_logloss: 1.39754\n",
      "[5]\ttraining's multi_logloss: 1.19256\tvalid_1's multi_logloss: 1.27804\n",
      "[6]\ttraining's multi_logloss: 1.08059\tvalid_1's multi_logloss: 1.17519\n",
      "[7]\ttraining's multi_logloss: 0.981159\tvalid_1's multi_logloss: 1.08167\n",
      "[8]\ttraining's multi_logloss: 0.893872\tvalid_1's multi_logloss: 1.00065\n",
      "[9]\ttraining's multi_logloss: 0.816176\tvalid_1's multi_logloss: 0.929716\n",
      "[10]\ttraining's multi_logloss: 0.747609\tvalid_1's multi_logloss: 0.866767\n",
      "[11]\ttraining's multi_logloss: 0.686078\tvalid_1's multi_logloss: 0.809185\n",
      "[12]\ttraining's multi_logloss: 0.629674\tvalid_1's multi_logloss: 0.755969\n",
      "[13]\ttraining's multi_logloss: 0.57963\tvalid_1's multi_logloss: 0.710794\n",
      "[14]\ttraining's multi_logloss: 0.532765\tvalid_1's multi_logloss: 0.667995\n",
      "[15]\ttraining's multi_logloss: 0.489527\tvalid_1's multi_logloss: 0.628503\n",
      "[16]\ttraining's multi_logloss: 0.450819\tvalid_1's multi_logloss: 0.591988\n",
      "[17]\ttraining's multi_logloss: 0.415699\tvalid_1's multi_logloss: 0.559735\n",
      "[18]\ttraining's multi_logloss: 0.383193\tvalid_1's multi_logloss: 0.528725\n",
      "[19]\ttraining's multi_logloss: 0.352587\tvalid_1's multi_logloss: 0.499447\n",
      "[20]\ttraining's multi_logloss: 0.325577\tvalid_1's multi_logloss: 0.473022\n",
      "[21]\ttraining's multi_logloss: 0.299875\tvalid_1's multi_logloss: 0.448066\n",
      "[22]\ttraining's multi_logloss: 0.276034\tvalid_1's multi_logloss: 0.424136\n",
      "[23]\ttraining's multi_logloss: 0.254492\tvalid_1's multi_logloss: 0.401636\n",
      "[24]\ttraining's multi_logloss: 0.23478\tvalid_1's multi_logloss: 0.382372\n",
      "[25]\ttraining's multi_logloss: 0.216832\tvalid_1's multi_logloss: 0.36347\n",
      "[26]\ttraining's multi_logloss: 0.200176\tvalid_1's multi_logloss: 0.346785\n",
      "[27]\ttraining's multi_logloss: 0.184619\tvalid_1's multi_logloss: 0.330287\n",
      "[28]\ttraining's multi_logloss: 0.170541\tvalid_1's multi_logloss: 0.315934\n",
      "[29]\ttraining's multi_logloss: 0.157165\tvalid_1's multi_logloss: 0.301451\n",
      "[30]\ttraining's multi_logloss: 0.144788\tvalid_1's multi_logloss: 0.288596\n",
      "[31]\ttraining's multi_logloss: 0.13355\tvalid_1's multi_logloss: 0.276424\n",
      "[32]\ttraining's multi_logloss: 0.123281\tvalid_1's multi_logloss: 0.265667\n",
      "[33]\ttraining's multi_logloss: 0.113602\tvalid_1's multi_logloss: 0.255298\n",
      "[34]\ttraining's multi_logloss: 0.104791\tvalid_1's multi_logloss: 0.246085\n",
      "[35]\ttraining's multi_logloss: 0.0968832\tvalid_1's multi_logloss: 0.236794\n",
      "[36]\ttraining's multi_logloss: 0.0893597\tvalid_1's multi_logloss: 0.228812\n",
      "[37]\ttraining's multi_logloss: 0.0826061\tvalid_1's multi_logloss: 0.221671\n",
      "[38]\ttraining's multi_logloss: 0.0762128\tvalid_1's multi_logloss: 0.215622\n",
      "[39]\ttraining's multi_logloss: 0.0702345\tvalid_1's multi_logloss: 0.209585\n",
      "[40]\ttraining's multi_logloss: 0.0649834\tvalid_1's multi_logloss: 0.204109\n",
      "[41]\ttraining's multi_logloss: 0.0599442\tvalid_1's multi_logloss: 0.1972\n",
      "[42]\ttraining's multi_logloss: 0.0552104\tvalid_1's multi_logloss: 0.191448\n",
      "[43]\ttraining's multi_logloss: 0.0508506\tvalid_1's multi_logloss: 0.186964\n",
      "[44]\ttraining's multi_logloss: 0.0469531\tvalid_1's multi_logloss: 0.18232\n",
      "[45]\ttraining's multi_logloss: 0.0433629\tvalid_1's multi_logloss: 0.178741\n",
      "[46]\ttraining's multi_logloss: 0.0400278\tvalid_1's multi_logloss: 0.174818\n",
      "[47]\ttraining's multi_logloss: 0.0369338\tvalid_1's multi_logloss: 0.17077\n",
      "[48]\ttraining's multi_logloss: 0.0341012\tvalid_1's multi_logloss: 0.166646\n",
      "[49]\ttraining's multi_logloss: 0.0315723\tvalid_1's multi_logloss: 0.162734\n",
      "[50]\ttraining's multi_logloss: 0.0292084\tvalid_1's multi_logloss: 0.160356\n",
      "[51]\ttraining's multi_logloss: 0.0270048\tvalid_1's multi_logloss: 0.157208\n",
      "[52]\ttraining's multi_logloss: 0.0249799\tvalid_1's multi_logloss: 0.155327\n",
      "[53]\ttraining's multi_logloss: 0.0230782\tvalid_1's multi_logloss: 0.152459\n",
      "[54]\ttraining's multi_logloss: 0.0213189\tvalid_1's multi_logloss: 0.149945\n",
      "[55]\ttraining's multi_logloss: 0.0196946\tvalid_1's multi_logloss: 0.147803\n",
      "[56]\ttraining's multi_logloss: 0.0182363\tvalid_1's multi_logloss: 0.145406\n",
      "[57]\ttraining's multi_logloss: 0.0168259\tvalid_1's multi_logloss: 0.142909\n",
      "[58]\ttraining's multi_logloss: 0.0155733\tvalid_1's multi_logloss: 0.14047\n",
      "[59]\ttraining's multi_logloss: 0.014415\tvalid_1's multi_logloss: 0.138487\n",
      "[60]\ttraining's multi_logloss: 0.0133265\tvalid_1's multi_logloss: 0.136924\n",
      "[61]\ttraining's multi_logloss: 0.0123319\tvalid_1's multi_logloss: 0.135309\n",
      "[62]\ttraining's multi_logloss: 0.0114011\tvalid_1's multi_logloss: 0.133699\n",
      "[63]\ttraining's multi_logloss: 0.0105669\tvalid_1's multi_logloss: 0.132143\n",
      "[64]\ttraining's multi_logloss: 0.00977227\tvalid_1's multi_logloss: 0.130542\n",
      "[65]\ttraining's multi_logloss: 0.00901508\tvalid_1's multi_logloss: 0.129511\n",
      "[66]\ttraining's multi_logloss: 0.00835252\tvalid_1's multi_logloss: 0.128034\n",
      "[67]\ttraining's multi_logloss: 0.00770961\tvalid_1's multi_logloss: 0.126221\n",
      "[68]\ttraining's multi_logloss: 0.00712808\tvalid_1's multi_logloss: 0.125468\n",
      "[69]\ttraining's multi_logloss: 0.00659379\tvalid_1's multi_logloss: 0.124188\n",
      "[70]\ttraining's multi_logloss: 0.00610462\tvalid_1's multi_logloss: 0.123354\n",
      "[71]\ttraining's multi_logloss: 0.00564642\tvalid_1's multi_logloss: 0.121869\n",
      "[72]\ttraining's multi_logloss: 0.0052291\tvalid_1's multi_logloss: 0.121433\n",
      "[73]\ttraining's multi_logloss: 0.0048454\tvalid_1's multi_logloss: 0.120596\n",
      "[74]\ttraining's multi_logloss: 0.00449451\tvalid_1's multi_logloss: 0.119677\n",
      "[75]\ttraining's multi_logloss: 0.00414911\tvalid_1's multi_logloss: 0.118896\n",
      "[76]\ttraining's multi_logloss: 0.00382629\tvalid_1's multi_logloss: 0.118365\n",
      "[77]\ttraining's multi_logloss: 0.00354881\tvalid_1's multi_logloss: 0.11769\n",
      "[78]\ttraining's multi_logloss: 0.00328914\tvalid_1's multi_logloss: 0.117785\n",
      "[79]\ttraining's multi_logloss: 0.00304928\tvalid_1's multi_logloss: 0.116476\n",
      "[80]\ttraining's multi_logloss: 0.00282612\tvalid_1's multi_logloss: 0.116277\n",
      "[81]\ttraining's multi_logloss: 0.002611\tvalid_1's multi_logloss: 0.115642\n",
      "[82]\ttraining's multi_logloss: 0.00241817\tvalid_1's multi_logloss: 0.115499\n",
      "[83]\ttraining's multi_logloss: 0.00223476\tvalid_1's multi_logloss: 0.115434\n",
      "[84]\ttraining's multi_logloss: 0.00206695\tvalid_1's multi_logloss: 0.115621\n",
      "[85]\ttraining's multi_logloss: 0.00191745\tvalid_1's multi_logloss: 0.115019\n",
      "[86]\ttraining's multi_logloss: 0.00177267\tvalid_1's multi_logloss: 0.114573\n",
      "[87]\ttraining's multi_logloss: 0.00163903\tvalid_1's multi_logloss: 0.113974\n",
      "[88]\ttraining's multi_logloss: 0.00152001\tvalid_1's multi_logloss: 0.113967\n",
      "[89]\ttraining's multi_logloss: 0.00140524\tvalid_1's multi_logloss: 0.114323\n",
      "[90]\ttraining's multi_logloss: 0.00129831\tvalid_1's multi_logloss: 0.114206\n",
      "[91]\ttraining's multi_logloss: 0.00120077\tvalid_1's multi_logloss: 0.113259\n",
      "[92]\ttraining's multi_logloss: 0.00111118\tvalid_1's multi_logloss: 0.113108\n",
      "[93]\ttraining's multi_logloss: 0.00102816\tvalid_1's multi_logloss: 0.112501\n",
      "[94]\ttraining's multi_logloss: 0.000951503\tvalid_1's multi_logloss: 0.111921\n",
      "[95]\ttraining's multi_logloss: 0.000879933\tvalid_1's multi_logloss: 0.111054\n",
      "[96]\ttraining's multi_logloss: 0.00081308\tvalid_1's multi_logloss: 0.111086\n",
      "[97]\ttraining's multi_logloss: 0.000750977\tvalid_1's multi_logloss: 0.110112\n",
      "[98]\ttraining's multi_logloss: 0.000694167\tvalid_1's multi_logloss: 0.110286\n",
      "[99]\ttraining's multi_logloss: 0.000643695\tvalid_1's multi_logloss: 0.109382\n",
      "[100]\ttraining's multi_logloss: 0.000595507\tvalid_1's multi_logloss: 0.109105\n",
      "Did not meet early stopping. Best iteration is:\n",
      "[100]\ttraining's multi_logloss: 0.000595507\tvalid_1's multi_logloss: 0.109105\n"
     ]
    }
   ],
   "source": [
    "# Create Model\n",
    "params = {\n",
    "    'objective': 'multiclass',\n",
    "    'num_class': 10,\n",
    "    'learning_rates': 0.5,\n",
    "    'min_leaves': 1,\n",
    "    'max_depth': 20\n",
    "#     'metrics':\n",
    "}\n",
    "evals_result = {}\n",
    "model = lgb.train(params, train_set=train, valid_sets=(train, valid), num_boost_round=100,\\\n",
    "                  evals_result=evals_result, early_stopping_rounds=20)"
   ]
  },
  {
   "cell_type": "code",
   "execution_count": 80,
   "metadata": {
    "ExecuteTime": {
     "end_time": "2018-09-17T14:14:23.633384Z",
     "start_time": "2018-09-17T14:14:23.449726Z"
    }
   },
   "outputs": [
    {
     "data": {
      "text/plain": [
       "<matplotlib.axes._subplots.AxesSubplot at 0x264612e3550>"
      ]
     },
     "execution_count": 80,
     "metadata": {},
     "output_type": "execute_result"
    },
    {
     "data": {
      "image/png": "[encoded data removed]",
      "text/plain": [
       "<Figure size 432x288 with 1 Axes>"
      ]
     },
     "metadata": {},
     "output_type": "display_data"
    }
   ],
   "source": [
    "lgb.plot_metric(evals_result, metric='multi_logloss')"
   ]
  },
  {
   "cell_type": "code",
   "execution_count": null,
   "metadata": {},
   "outputs": [],
   "source": []
  },
  {
   "cell_type": "code",
   "execution_count": null,
   "metadata": {},
   "outputs": [],
   "source": []
  },
  {
   "cell_type": "code",
   "execution_count": null,
   "metadata": {},
   "outputs": [],
   "source": []
  }
 ],
 "metadata": {
  "kernelspec": {
   "display_name": "Python 3",
   "language": "python",
   "name": "python3"
  },
  "language_info": {
   "codemirror_mode": {
    "name": "ipython",
    "version": 3
   },
   "file_extension": ".py",
   "mimetype": "text/x-python",
   "name": "python",
   "nbconvert_exporter": "python",
   "pygments_lexer": "ipython3",
   "version": "3.6.5"
  },
  "varInspector": {
   "cols": {
    "lenName": 16,
    "lenType": 16,
    "lenVar": 40
   },
   "kernels_config": {
    "python": {
     "delete_cmd_postfix": "",
     "delete_cmd_prefix": "del ",
     "library": "var_list.py",
     "varRefreshCmd": "print(var_dic_list())"
    },
    "r": {
     "delete_cmd_postfix": ") ",
     "delete_cmd_prefix": "rm(",
     "library": "var_list.r",
     "varRefreshCmd": "cat(var_dic_list()) "
    }
   },
   "types_to_exclude": [
    "module",
    "function",
    "builtin_function_or_method",
    "instance",
    "_Feature"
   ],
   "window_display": false
  }
 },
 "nbformat": 4,
 "nbformat_minor": 2
}
